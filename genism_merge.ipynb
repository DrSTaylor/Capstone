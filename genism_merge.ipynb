{
 "cells": [
  {
   "cell_type": "code",
   "execution_count": 23,
   "metadata": {},
   "outputs": [
    {
     "name": "stdout",
     "output_type": "stream",
     "text": [
      "Collecting pyLDAvis\n",
      "  Downloading pyLDAvis-3.4.1-py3-none-any.whl (2.6 MB)\n",
      "     ---------------------------------------- 0.0/2.6 MB ? eta -:--:--\n",
      "     ---------------------------------------- 0.0/2.6 MB 660.6 kB/s eta 0:00:04\n",
      "     ---- ----------------------------------- 0.3/2.6 MB 3.8 MB/s eta 0:00:01\n",
      "     ---------------- ----------------------- 1.1/2.6 MB 8.4 MB/s eta 0:00:01\n",
      "     -------------------------------- ------- 2.1/2.6 MB 12.3 MB/s eta 0:00:01\n",
      "     ---------------------------------------- 2.6/2.6 MB 11.9 MB/s eta 0:00:00\n",
      "Requirement already satisfied: numpy>=1.24.2 in c:\\users\\staylor\\anaconda3\\lib\\site-packages (from pyLDAvis) (1.24.3)\n",
      "Requirement already satisfied: scipy in c:\\users\\staylor\\anaconda3\\lib\\site-packages (from pyLDAvis) (1.11.1)\n",
      "Requirement already satisfied: pandas>=2.0.0 in c:\\users\\staylor\\anaconda3\\lib\\site-packages (from pyLDAvis) (2.0.3)\n",
      "Requirement already satisfied: joblib>=1.2.0 in c:\\users\\staylor\\anaconda3\\lib\\site-packages (from pyLDAvis) (1.2.0)\n",
      "Requirement already satisfied: jinja2 in c:\\users\\staylor\\anaconda3\\lib\\site-packages (from pyLDAvis) (3.1.2)\n",
      "Requirement already satisfied: numexpr in c:\\users\\staylor\\anaconda3\\lib\\site-packages (from pyLDAvis) (2.8.4)\n",
      "Collecting funcy (from pyLDAvis)\n",
      "  Downloading funcy-2.0-py2.py3-none-any.whl (30 kB)\n",
      "Requirement already satisfied: scikit-learn>=1.0.0 in c:\\users\\staylor\\anaconda3\\lib\\site-packages (from pyLDAvis) (1.2.2)\n",
      "Requirement already satisfied: gensim in c:\\users\\staylor\\anaconda3\\lib\\site-packages (from pyLDAvis) (4.3.0)\n",
      "Requirement already satisfied: setuptools in c:\\users\\staylor\\anaconda3\\lib\\site-packages (from pyLDAvis) (68.0.0)\n",
      "Requirement already satisfied: python-dateutil>=2.8.2 in c:\\users\\staylor\\anaconda3\\lib\\site-packages (from pandas>=2.0.0->pyLDAvis) (2.8.2)\n",
      "Requirement already satisfied: pytz>=2020.1 in c:\\users\\staylor\\anaconda3\\lib\\site-packages (from pandas>=2.0.0->pyLDAvis) (2023.3.post1)\n",
      "Requirement already satisfied: tzdata>=2022.1 in c:\\users\\staylor\\anaconda3\\lib\\site-packages (from pandas>=2.0.0->pyLDAvis) (2023.3)\n",
      "Requirement already satisfied: threadpoolctl>=2.0.0 in c:\\users\\staylor\\anaconda3\\lib\\site-packages (from scikit-learn>=1.0.0->pyLDAvis) (2.2.0)\n",
      "Requirement already satisfied: smart-open>=1.8.1 in c:\\users\\staylor\\anaconda3\\lib\\site-packages (from gensim->pyLDAvis) (5.2.1)\n",
      "Collecting FuzzyTM>=0.4.0 (from gensim->pyLDAvis)\n",
      "  Downloading FuzzyTM-2.0.5-py3-none-any.whl (29 kB)\n",
      "Requirement already satisfied: MarkupSafe>=2.0 in c:\\users\\staylor\\anaconda3\\lib\\site-packages (from jinja2->pyLDAvis) (2.1.1)\n",
      "Collecting pyfume (from FuzzyTM>=0.4.0->gensim->pyLDAvis)\n",
      "  Downloading pyFUME-0.2.25-py3-none-any.whl (67 kB)\n",
      "     ---------------------------------------- 0.0/67.1 kB ? eta -:--:--\n",
      "     ---------------------------------------- 67.1/67.1 kB ? eta 0:00:00\n",
      "Requirement already satisfied: six>=1.5 in c:\\users\\staylor\\anaconda3\\lib\\site-packages (from python-dateutil>=2.8.2->pandas>=2.0.0->pyLDAvis) (1.16.0)\n",
      "Collecting simpful (from pyfume->FuzzyTM>=0.4.0->gensim->pyLDAvis)\n",
      "  Obtaining dependency information for simpful from https://files.pythonhosted.org/packages/8d/93/8448d3f1aa9d2911b8cba2602aaa1af85eb31a26d28b7b737f1fa5b40c02/simpful-2.11.1-py3-none-any.whl.metadata\n",
      "  Downloading simpful-2.11.1-py3-none-any.whl.metadata (4.8 kB)\n",
      "Collecting fst-pso (from pyfume->FuzzyTM>=0.4.0->gensim->pyLDAvis)\n",
      "  Downloading fst-pso-1.8.1.tar.gz (18 kB)\n",
      "  Preparing metadata (setup.py): started\n",
      "  Preparing metadata (setup.py): finished with status 'done'\n",
      "Collecting miniful (from fst-pso->pyfume->FuzzyTM>=0.4.0->gensim->pyLDAvis)\n",
      "  Downloading miniful-0.0.6.tar.gz (2.8 kB)\n",
      "  Preparing metadata (setup.py): started\n",
      "  Preparing metadata (setup.py): finished with status 'done'\n",
      "Downloading simpful-2.11.1-py3-none-any.whl (32 kB)\n",
      "Building wheels for collected packages: fst-pso, miniful\n",
      "  Building wheel for fst-pso (setup.py): started\n",
      "  Building wheel for fst-pso (setup.py): finished with status 'done'\n",
      "  Created wheel for fst-pso: filename=fst_pso-1.8.1-py3-none-any.whl size=20451 sha256=afc1ad02a1487eba55d64c626f4f984d6b0d914914ca0c5e3446cab98352234f\n",
      "  Stored in directory: c:\\users\\staylor\\appdata\\local\\pip\\cache\\wheels\\99\\66\\48\\d7ce0c6927f6abf167bbcdee537affc7b92c03632f78028411\n",
      "  Building wheel for miniful (setup.py): started\n",
      "  Building wheel for miniful (setup.py): finished with status 'done'\n",
      "  Created wheel for miniful: filename=miniful-0.0.6-py3-none-any.whl size=3517 sha256=28d42c3cac85fda1654581ad6ee576ed76f1e9629b46a1fa054e2b0b2c7dd3c8\n",
      "  Stored in directory: c:\\users\\staylor\\appdata\\local\\pip\\cache\\wheels\\d9\\c7\\71\\db1d4646d963b34c530667501d3d6f34c0825eaffae2f0f2cb\n",
      "Successfully built fst-pso miniful\n",
      "Installing collected packages: funcy, simpful, miniful, fst-pso, pyfume, FuzzyTM, pyLDAvis\n",
      "Successfully installed FuzzyTM-2.0.5 fst-pso-1.8.1 funcy-2.0 miniful-0.0.6 pyLDAvis-3.4.1 pyfume-0.2.25 simpful-2.11.1\n"
     ]
    }
   ],
   "source": [
    "!pip install pyLDAvis\n",
    "import pyLDAvis.gensim_models"
   ]
  },
  {
   "cell_type": "code",
   "execution_count": 24,
   "metadata": {},
   "outputs": [],
   "source": [
    "import gensim\n",
    "import gensim.corpora as corpora\n",
    "from gensim.corpora import Dictionary\n",
    "from gensim.models.coherencemodel import CoherenceModel\n",
    "from gensim.models.ldamodel import LdaModel\n",
    "\n",
    "from pprint import pprint\n",
    "\n",
    "import spacy\n",
    "\n",
    "import pickle\n",
    "import re\n",
    "import pyLDAvis.gensim_models\n",
    "\n",
    "import matplotlib.pyplot as plt\n",
    "import pandas as pd"
   ]
  },
  {
   "cell_type": "code",
   "execution_count": 25,
   "metadata": {},
   "outputs": [],
   "source": [
    "import spacy\n",
    "spacy.load(\"en_core_web_sm\")\n",
    "from spacy.lang.en import English\n",
    "parser = English()\n",
    "\n",
    "def tokenize(text):\n",
    "    lda_tokens = []\n",
    "    tokens = parser(text)\n",
    "    for token in tokens:\n",
    "        if token.orth_.isspace():\n",
    "            continue\n",
    "        elif token.like_url:\n",
    "            lda_tokens.append('URL')\n",
    "        elif token.orth_.startswith('@'):\n",
    "            lda_tokens.append('SCREEN_NAME')\n",
    "        else:\n",
    "            lda_tokens.append(token.lower_)\n",
    "    return lda_tokens"
   ]
  },
  {
   "cell_type": "code",
   "execution_count": 26,
   "metadata": {},
   "outputs": [
    {
     "name": "stderr",
     "output_type": "stream",
     "text": [
      "[nltk_data] Downloading package wordnet to\n",
      "[nltk_data]     C:\\Users\\staylor\\AppData\\Roaming\\nltk_data...\n",
      "[nltk_data]   Package wordnet is already up-to-date!\n"
     ]
    },
    {
     "data": {
      "text/plain": [
       "True"
      ]
     },
     "execution_count": 26,
     "metadata": {},
     "output_type": "execute_result"
    }
   ],
   "source": [
    "import nltk\n",
    "nltk.download('wordnet')"
   ]
  },
  {
   "cell_type": "code",
   "execution_count": 27,
   "metadata": {},
   "outputs": [],
   "source": [
    "from nltk.corpus import wordnet as wn\n",
    "def get_lemma(word):\n",
    "    lemma = wn.morphy(word)\n",
    "    if lemma is None:\n",
    "        return word\n",
    "    else:\n",
    "        return lemma\n",
    "    \n",
    "from nltk.stem.wordnet import WordNetLemmatizer\n",
    "def get_lemma2(word):\n",
    "    return WordNetLemmatizer().lemmatize(word)"
   ]
  },
  {
   "cell_type": "code",
   "execution_count": 28,
   "metadata": {},
   "outputs": [
    {
     "name": "stdout",
     "output_type": "stream",
     "text": [
      "dogs dog dog\n",
      "ran run ran\n",
      "discouraged discourage discouraged\n"
     ]
    }
   ],
   "source": [
    "for w in ['dogs', 'ran', 'discouraged']:\n",
    "    print(w, get_lemma(w), get_lemma2(w))"
   ]
  },
  {
   "cell_type": "code",
   "execution_count": 29,
   "metadata": {},
   "outputs": [
    {
     "name": "stderr",
     "output_type": "stream",
     "text": [
      "[nltk_data] Downloading package stopwords to\n",
      "[nltk_data]     C:\\Users\\staylor\\AppData\\Roaming\\nltk_data...\n",
      "[nltk_data]   Package stopwords is already up-to-date!\n"
     ]
    }
   ],
   "source": [
    "nltk.download('stopwords')\n",
    "en_stop = set(nltk.corpus.stopwords.words('english'))"
   ]
  },
  {
   "cell_type": "code",
   "execution_count": 30,
   "metadata": {},
   "outputs": [],
   "source": [
    "def prepare_text_for_lda(text):\n",
    "    tokens = tokenize(text)\n",
    "    tokens = [token for token in tokens if len(token) > 4]\n",
    "    tokens = [token for token in tokens if token not in en_stop]\n",
    "    tokens = [get_lemma(token) for token in tokens]\n",
    "    return tokens"
   ]
  },
  {
   "cell_type": "code",
   "execution_count": 31,
   "metadata": {},
   "outputs": [],
   "source": [
    "import csv\n",
    "import pandas as pd "
   ]
  },
  {
   "cell_type": "code",
   "execution_count": 32,
   "metadata": {},
   "outputs": [
    {
     "name": "stdout",
     "output_type": "stream",
     "text": [
      "['getting', 'classroom', 'excite', 'classroom', 'though', 'career', 'school', 'classroom', 'still', 'interest', 'observe']\n"
     ]
    }
   ],
   "source": [
    "text_data = []\n",
    "with open(\"merge.csv\") as f:\n",
    "    for line in f:\n",
    "        tokens = prepare_text_for_lda(line)\n",
    "print(tokens)\n",
    "text_data.append(tokens)"
   ]
  },
  {
   "cell_type": "code",
   "execution_count": 33,
   "metadata": {},
   "outputs": [],
   "source": [
    "from gensim import corpora\n",
    "dictionary = corpora.Dictionary(text_data)"
   ]
  },
  {
   "cell_type": "code",
   "execution_count": 34,
   "metadata": {},
   "outputs": [],
   "source": [
    "corpus = [dictionary.doc2bow(text) for text in text_data]"
   ]
  },
  {
   "cell_type": "code",
   "execution_count": 35,
   "metadata": {},
   "outputs": [],
   "source": [
    "import pickle\n",
    "pickle.dump(corpus, open('corpus.pkl', 'wb'))\n",
    "dictionary.save('dictionary.gensim')"
   ]
  },
  {
   "cell_type": "markdown",
   "metadata": {},
   "source": [
    "### Try 5 topics"
   ]
  },
  {
   "cell_type": "code",
   "execution_count": 36,
   "metadata": {},
   "outputs": [],
   "source": [
    "import gensim\n",
    "NUM_TOPICS = 5\n",
    "ldamodel = gensim.models.ldamodel.LdaModel(corpus, num_topics = NUM_TOPICS, id2word=dictionary, passes=15)\n",
    "ldamodel.save('model5.gensim')"
   ]
  },
  {
   "cell_type": "code",
   "execution_count": 37,
   "metadata": {},
   "outputs": [
    {
     "name": "stdout",
     "output_type": "stream",
     "text": [
      "(0, '0.111*\"getting\" + 0.111*\"school\" + 0.111*\"though\" + 0.111*\"still\"')\n",
      "(1, '0.250*\"classroom\" + 0.094*\"interest\" + 0.094*\"career\" + 0.094*\"observe\"')\n",
      "(2, '0.111*\"school\" + 0.111*\"excite\" + 0.111*\"though\" + 0.111*\"still\"')\n",
      "(3, '0.111*\"getting\" + 0.111*\"school\" + 0.111*\"though\" + 0.111*\"excite\"')\n",
      "(4, '0.111*\"getting\" + 0.111*\"school\" + 0.111*\"excite\" + 0.111*\"though\"')\n"
     ]
    }
   ],
   "source": [
    "topics = ldamodel.print_topics(num_words=4)\n",
    "for topic in topics:\n",
    "    print(topic)"
   ]
  },
  {
   "cell_type": "code",
   "execution_count": 38,
   "metadata": {},
   "outputs": [
    {
     "name": "stdout",
     "output_type": "stream",
     "text": [
      "[]\n",
      "[(0, 0.2), (1, 0.2), (2, 0.2), (3, 0.2), (4, 0.2)]\n"
     ]
    }
   ],
   "source": [
    "new_doc = 'Practical Bayesian Optimization of Machine Learning Algorithms'\n",
    "new_doc = prepare_text_for_lda(new_doc)\n",
    "new_doc_bow = dictionary.doc2bow(new_doc)\n",
    "print(new_doc_bow)\n",
    "print(ldamodel.get_document_topics(new_doc_bow))"
   ]
  },
  {
   "cell_type": "code",
   "execution_count": 39,
   "metadata": {},
   "outputs": [
    {
     "name": "stdout",
     "output_type": "stream",
     "text": [
      "(0, '0.111*\"though\" + 0.111*\"excite\" + 0.111*\"school\" + 0.111*\"interest\"')\n",
      "(1, '0.111*\"interest\" + 0.111*\"though\" + 0.111*\"excite\" + 0.111*\"still\"')\n",
      "(2, '0.238*\"classroom\" + 0.095*\"career\" + 0.095*\"getting\" + 0.095*\"observe\"')\n"
     ]
    }
   ],
   "source": [
    "ldamodel = gensim.models.ldamodel.LdaModel(corpus, num_topics = 3, id2word=dictionary, passes=15)\n",
    "ldamodel.save('model3.gensim')\n",
    "topics = ldamodel.print_topics(num_words=4)\n",
    "for topic in topics:\n",
    "    print(topic)"
   ]
  },
  {
   "cell_type": "code",
   "execution_count": 40,
   "metadata": {},
   "outputs": [
    {
     "name": "stdout",
     "output_type": "stream",
     "text": [
      "(0, '0.261*\"classroom\" + 0.092*\"interest\" + 0.092*\"still\" + 0.092*\"school\"')\n",
      "(1, '0.111*\"classroom\" + 0.111*\"interest\" + 0.111*\"still\" + 0.111*\"school\"')\n",
      "(2, '0.111*\"classroom\" + 0.111*\"interest\" + 0.111*\"still\" + 0.111*\"school\"')\n",
      "(3, '0.111*\"classroom\" + 0.111*\"interest\" + 0.111*\"still\" + 0.111*\"school\"')\n",
      "(4, '0.111*\"classroom\" + 0.111*\"interest\" + 0.111*\"still\" + 0.111*\"school\"')\n",
      "(5, '0.111*\"classroom\" + 0.111*\"interest\" + 0.111*\"still\" + 0.111*\"school\"')\n",
      "(6, '0.111*\"getting\" + 0.111*\"classroom\" + 0.111*\"school\" + 0.111*\"interest\"')\n",
      "(7, '0.111*\"classroom\" + 0.111*\"interest\" + 0.111*\"still\" + 0.111*\"school\"')\n",
      "(8, '0.111*\"getting\" + 0.111*\"classroom\" + 0.111*\"school\" + 0.111*\"interest\"')\n",
      "(9, '0.111*\"classroom\" + 0.111*\"interest\" + 0.111*\"still\" + 0.111*\"school\"')\n"
     ]
    }
   ],
   "source": [
    "ldamodel = gensim.models.ldamodel.LdaModel(corpus, num_topics = 10, id2word=dictionary, passes=15)\n",
    "ldamodel.save('model10.gensim')\n",
    "topics = ldamodel.print_topics(num_words=4)\n",
    "for topic in topics:\n",
    "    print(topic)"
   ]
  },
  {
   "cell_type": "markdown",
   "metadata": {},
   "source": [
    "### pyLDAvis"
   ]
  },
  {
   "cell_type": "code",
   "execution_count": 41,
   "metadata": {},
   "outputs": [],
   "source": [
    "dictionary = gensim.corpora.Dictionary.load('dictionary.gensim')\n",
    "corpus = pickle.load(open('corpus.pkl', 'rb'))\n",
    "lda = gensim.models.ldamodel.LdaModel.load('model5.gensim')"
   ]
  },
  {
   "cell_type": "code",
   "execution_count": 51,
   "metadata": {},
   "outputs": [],
   "source": [
    "import pyLDAvis.gensim_models\n",
    "lda_display = pyLDAvis.gensim_models.prepare(lda, corpus, dictionary, sort_topics=False)\n",
    "pyLDAvis.enable_notebook(lda_display)"
   ]
  },
  {
   "cell_type": "code",
   "execution_count": 63,
   "metadata": {},
   "outputs": [
    {
     "ename": "OSError",
     "evalue": "[Errno 22] Invalid argument: 'https://cdn.jsdelivr.net/gh/bmabey/pyLDAvis@3.4.0/pyLDAvis/js/ldavis.v1.0.0.css'",
     "output_type": "error",
     "traceback": [
      "\u001b[1;31m---------------------------------------------------------------------------\u001b[0m",
      "\u001b[1;31mOSError\u001b[0m                                   Traceback (most recent call last)",
      "Cell \u001b[1;32mIn[63], line 1\u001b[0m\n\u001b[1;32m----> 1\u001b[0m \u001b[43mpyLDAvis\u001b[49m\u001b[38;5;241;43m.\u001b[39;49m\u001b[43mshow\u001b[49m\u001b[43m(\u001b[49m\u001b[43mlda_display\u001b[49m\u001b[43m,\u001b[49m\u001b[43m \u001b[49m\u001b[43mip\u001b[49m\u001b[38;5;241;43m=\u001b[39;49m\u001b[38;5;124;43m'\u001b[39;49m\u001b[38;5;124;43m127.0.0.1\u001b[39;49m\u001b[38;5;124;43m'\u001b[39;49m\u001b[43m,\u001b[49m\u001b[43m \u001b[49m\u001b[43mport\u001b[49m\u001b[38;5;241;43m=\u001b[39;49m\u001b[38;5;241;43m8888\u001b[39;49m\u001b[43m,\u001b[49m\u001b[43m \u001b[49m\u001b[43mn_retries\u001b[49m\u001b[38;5;241;43m=\u001b[39;49m\u001b[38;5;241;43m50\u001b[39;49m\u001b[43m,\u001b[49m\u001b[43m \u001b[49m\u001b[43mlocal\u001b[49m\u001b[38;5;241;43m=\u001b[39;49m\u001b[38;5;28;43;01mTrue\u001b[39;49;00m\u001b[43m,\u001b[49m\u001b[43m \u001b[49m\u001b[43mopen_browser\u001b[49m\u001b[38;5;241;43m=\u001b[39;49m\u001b[38;5;28;43;01mTrue\u001b[39;49;00m\u001b[43m,\u001b[49m\u001b[43m \u001b[49m\u001b[43mhttp_server\u001b[49m\u001b[38;5;241;43m=\u001b[39;49m\u001b[38;5;28;43;01mNone\u001b[39;49;00m\u001b[43m,\u001b[49m\u001b[43m)\u001b[49m\n",
      "File \u001b[1;32m~\\Anaconda3\\lib\\site-packages\\pyLDAvis\\_display.py:262\u001b[0m, in \u001b[0;36mshow\u001b[1;34m(data, ip, port, n_retries, local, open_browser, http_server, **kwargs)\u001b[0m\n\u001b[0;32m    259\u001b[0m     kwargs[\u001b[38;5;124m'\u001b[39m\u001b[38;5;124md3_url\u001b[39m\u001b[38;5;124m'\u001b[39m] \u001b[38;5;241m=\u001b[39m urls\u001b[38;5;241m.\u001b[39mD3_URL\n\u001b[0;32m    260\u001b[0m     kwargs[\u001b[38;5;124m'\u001b[39m\u001b[38;5;124mldavis_css_url\u001b[39m\u001b[38;5;124m'\u001b[39m] \u001b[38;5;241m=\u001b[39m urls\u001b[38;5;241m.\u001b[39mLDAVIS_CSS_URL\n\u001b[0;32m    261\u001b[0m     files \u001b[38;5;241m=\u001b[39m {\u001b[38;5;124m'\u001b[39m\u001b[38;5;124m/LDAvis.js\u001b[39m\u001b[38;5;124m'\u001b[39m: [\u001b[38;5;124m\"\u001b[39m\u001b[38;5;124mtext/javascript\u001b[39m\u001b[38;5;124m\"\u001b[39m, \u001b[38;5;28mopen\u001b[39m(urls\u001b[38;5;241m.\u001b[39mLDAVIS_LOCAL, \u001b[38;5;124m'\u001b[39m\u001b[38;5;124mr\u001b[39m\u001b[38;5;124m'\u001b[39m)\u001b[38;5;241m.\u001b[39mread()],\n\u001b[1;32m--> 262\u001b[0m              \u001b[38;5;124m'\u001b[39m\u001b[38;5;124m/LDAvis.css\u001b[39m\u001b[38;5;124m'\u001b[39m: [\u001b[38;5;124m\"\u001b[39m\u001b[38;5;124mtext/css\u001b[39m\u001b[38;5;124m\"\u001b[39m, \u001b[38;5;28;43mopen\u001b[39;49m\u001b[43m(\u001b[49m\u001b[43murls\u001b[49m\u001b[38;5;241;43m.\u001b[39;49m\u001b[43mLDAVIS_CSS_URL\u001b[49m\u001b[43m,\u001b[49m\u001b[43m \u001b[49m\u001b[38;5;124;43m'\u001b[39;49m\u001b[38;5;124;43mr\u001b[39;49m\u001b[38;5;124;43m'\u001b[39;49m\u001b[43m)\u001b[49m\u001b[38;5;241m.\u001b[39mread()],\n\u001b[0;32m    263\u001b[0m              \u001b[38;5;124m'\u001b[39m\u001b[38;5;124m/d3.js\u001b[39m\u001b[38;5;124m'\u001b[39m: [\u001b[38;5;124m\"\u001b[39m\u001b[38;5;124mtext/javascript\u001b[39m\u001b[38;5;124m\"\u001b[39m, \u001b[38;5;28mopen\u001b[39m(urls\u001b[38;5;241m.\u001b[39mD3_URL, \u001b[38;5;124m'\u001b[39m\u001b[38;5;124mr\u001b[39m\u001b[38;5;124m'\u001b[39m)\u001b[38;5;241m.\u001b[39mread()]}\n\u001b[0;32m    264\u001b[0m html \u001b[38;5;241m=\u001b[39m prepared_data_to_html(data, \u001b[38;5;241m*\u001b[39m\u001b[38;5;241m*\u001b[39mkwargs)\n\u001b[0;32m    265\u001b[0m serve(html, ip\u001b[38;5;241m=\u001b[39mip, port\u001b[38;5;241m=\u001b[39mport, n_retries\u001b[38;5;241m=\u001b[39mn_retries, files\u001b[38;5;241m=\u001b[39mfiles,\n\u001b[0;32m    266\u001b[0m       open_browser\u001b[38;5;241m=\u001b[39mopen_browser, http_server\u001b[38;5;241m=\u001b[39mhttp_server)\n",
      "\u001b[1;31mOSError\u001b[0m: [Errno 22] Invalid argument: 'https://cdn.jsdelivr.net/gh/bmabey/pyLDAvis@3.4.0/pyLDAvis/js/ldavis.v1.0.0.css'"
     ]
    }
   ],
   "source": [
    "pyLDAvis.show(lda_display, ip='127.0.0.1', port=8888, n_retries=50, local=True, open_browser=True, http_server=None,)"
   ]
  },
  {
   "cell_type": "code",
   "execution_count": 47,
   "metadata": {},
   "outputs": [
    {
     "data": {
      "text/html": [
       "\n",
       "<link rel=\"stylesheet\" type=\"text/css\" href=\"https://cdn.jsdelivr.net/gh/bmabey/pyLDAvis@3.4.0/pyLDAvis/js/ldavis.v1.0.0.css\">\n",
       "\n",
       "\n",
       "<div id=\"ldavis_el1621618971189297441702620154\" style=\"background-color:white;\"></div>\n",
       "<script type=\"text/javascript\">\n",
       "\n",
       "var ldavis_el1621618971189297441702620154_data = {\"mdsDat\": {\"x\": [-0.004768203205843794, -0.004767948888786364, 0.009536152094630157], \"y\": [-0.0, -0.0, -0.0], \"topics\": [1, 2, 3], \"cluster\": [1, 1, 1], \"Freq\": [2.8674911226939033, 2.8675263266866335, 94.26498255061946]}, \"tinfo\": {\"Term\": [\"classroom\", \"though\", \"excite\", \"interest\", \"school\", \"still\", \"observe\", \"getting\", \"career\", \"though\", \"excite\", \"school\", \"interest\", \"getting\", \"career\", \"still\", \"observe\", \"classroom\", \"interest\", \"though\", \"excite\", \"still\", \"observe\", \"school\", \"getting\", \"career\", \"classroom\", \"classroom\", \"career\", \"getting\", \"observe\", \"still\", \"school\", \"interest\", \"excite\", \"though\"], \"Freq\": [2.0, 1.0, 1.0, 1.0, 1.0, 1.0, 1.0, 1.0, 1.0, 0.03504855987713018, 0.035048428271969856, 0.03504824261469011, 0.03504803815667318, 0.03504801935593599, 0.03504788070049922, 0.03504773734487815, 0.03504758223879634, 0.03503954727374006, 0.03504910767195682, 0.035049004266632794, 0.03504894081336578, 0.03504843083710865, 0.03504830863081662, 0.03504806656835356, 0.03504786445794751, 0.035047873858431514, 0.03504027826735763, 2.471006612115616, 0.987273035960925, 0.9872721861430023, 0.9872721088868275, 0.9872701002262829, 0.9872690958960106, 0.9872632244267265, 0.9872616793032307, 0.9872602114359097], \"Total\": [2.0, 1.0, 1.0, 1.0, 1.0, 1.0, 1.0, 1.0, 1.0, 1.0573577755796726, 1.0573590483885664, 1.0573654050790544, 1.0573603702553565, 1.0573680699568857, 1.0573687905198557, 1.0573662684082696, 1.0573679997564405, 2.5410864376567135, 1.0573603702553565, 1.0573577755796726, 1.0573590483885664, 1.0573662684082696, 1.0573679997564405, 1.0573654050790544, 1.0573680699568857, 1.0573687905198557, 2.5410864376567135, 2.5410864376567135, 1.0573687905198557, 1.0573680699568857, 1.0573679997564405, 1.0573662684082696, 1.0573654050790544, 1.0573603702553565, 1.0573590483885664, 1.0573577755796726], \"Category\": [\"Default\", \"Default\", \"Default\", \"Default\", \"Default\", \"Default\", \"Default\", \"Default\", \"Default\", \"Topic1\", \"Topic1\", \"Topic1\", \"Topic1\", \"Topic1\", \"Topic1\", \"Topic1\", \"Topic1\", \"Topic1\", \"Topic2\", \"Topic2\", \"Topic2\", \"Topic2\", \"Topic2\", \"Topic2\", \"Topic2\", \"Topic2\", \"Topic2\", \"Topic3\", \"Topic3\", \"Topic3\", \"Topic3\", \"Topic3\", \"Topic3\", \"Topic3\", \"Topic3\", \"Topic3\"], \"logprob\": [9.0, 8.0, 7.0, 6.0, 5.0, 4.0, 3.0, 2.0, 1.0, -2.1972, -2.1972, -2.1972, -2.1972, -2.1972, -2.1972, -2.1972, -2.1972, -2.1974, -2.1972, -2.1972, -2.1972, -2.1972, -2.1972, -2.1972, -2.1972, -2.1972, -2.1974, -1.4342, -2.3516, -2.3516, -2.3516, -2.3516, -2.3516, -2.3517, -2.3517, -2.3517], \"loglift\": [9.0, 8.0, 7.0, 6.0, 5.0, 4.0, 3.0, 2.0, 1.0, 0.1449, 0.1449, 0.1449, 0.1449, 0.1449, 0.1449, 0.1449, 0.1449, -0.7321, 0.1449, 0.1449, 0.1449, 0.1449, 0.1449, 0.1449, 0.1449, 0.1449, -0.7321, 0.0311, -0.0095, -0.0095, -0.0095, -0.0095, -0.0095, -0.0095, -0.0095, -0.0095]}, \"token.table\": {\"Topic\": [3, 3, 3, 3, 3, 3, 3, 3, 3], \"Freq\": [0.9457438208558716, 0.7870649224527437, 0.9457525346040376, 0.9457444653504385, 0.9457513522645986, 0.9457445281400091, 0.9457468489100365, 0.9457460767169854, 0.9457536730665952], \"Term\": [\"career\", \"classroom\", \"excite\", \"getting\", \"interest\", \"observe\", \"school\", \"still\", \"though\"]}, \"R\": 9, \"lambda.step\": 0.01, \"plot.opts\": {\"xlab\": \"PC1\", \"ylab\": \"PC2\"}, \"topic.order\": [1, 2, 3]};\n",
       "\n",
       "function LDAvis_load_lib(url, callback){\n",
       "  var s = document.createElement('script');\n",
       "  s.src = url;\n",
       "  s.async = true;\n",
       "  s.onreadystatechange = s.onload = callback;\n",
       "  s.onerror = function(){console.warn(\"failed to load library \" + url);};\n",
       "  document.getElementsByTagName(\"head\")[0].appendChild(s);\n",
       "}\n",
       "\n",
       "if(typeof(LDAvis) !== \"undefined\"){\n",
       "   // already loaded: just create the visualization\n",
       "   !function(LDAvis){\n",
       "       new LDAvis(\"#\" + \"ldavis_el1621618971189297441702620154\", ldavis_el1621618971189297441702620154_data);\n",
       "   }(LDAvis);\n",
       "}else if(typeof define === \"function\" && define.amd){\n",
       "   // require.js is available: use it to load d3/LDAvis\n",
       "   require.config({paths: {d3: \"https://d3js.org/d3.v5\"}});\n",
       "   require([\"d3\"], function(d3){\n",
       "      window.d3 = d3;\n",
       "      LDAvis_load_lib(\"https://cdn.jsdelivr.net/gh/bmabey/pyLDAvis@3.4.0/pyLDAvis/js/ldavis.v3.0.0.js\", function(){\n",
       "        new LDAvis(\"#\" + \"ldavis_el1621618971189297441702620154\", ldavis_el1621618971189297441702620154_data);\n",
       "      });\n",
       "    });\n",
       "}else{\n",
       "    // require.js not available: dynamically load d3 & LDAvis\n",
       "    LDAvis_load_lib(\"https://d3js.org/d3.v5.js\", function(){\n",
       "         LDAvis_load_lib(\"https://cdn.jsdelivr.net/gh/bmabey/pyLDAvis@3.4.0/pyLDAvis/js/ldavis.v3.0.0.js\", function(){\n",
       "                 new LDAvis(\"#\" + \"ldavis_el1621618971189297441702620154\", ldavis_el1621618971189297441702620154_data);\n",
       "            })\n",
       "         });\n",
       "}\n",
       "</script>"
      ],
      "text/plain": [
       "<IPython.core.display.HTML object>"
      ]
     },
     "execution_count": 47,
     "metadata": {},
     "output_type": "execute_result"
    }
   ],
   "source": [
    "lda3 = gensim.models.ldamodel.LdaModel.load('model3.gensim')\n",
    "lda_display3 = pyLDAvis.gensim_models.prepare(lda3, corpus, dictionary, sort_topics=False)\n",
    "pyLDAvis.display(lda_display3)"
   ]
  },
  {
   "cell_type": "code",
   "execution_count": 49,
   "metadata": {},
   "outputs": [],
   "source": [
    "lda10 = gensim.models.ldamodel.LdaModel.load('model10.gensim')\n",
    "lda_display10 = pyLDAvis.gensim_models.prepare(lda10, corpus, dictionary, sort_topics=False)\n",
    "pyLDAvis.enable_notebook(lda_display10)"
   ]
  }
 ],
 "metadata": {
  "kernelspec": {
   "display_name": "Python 3 (ipykernel)",
   "language": "python",
   "name": "python3"
  },
  "language_info": {
   "codemirror_mode": {
    "name": "ipython",
    "version": 3
   },
   "file_extension": ".py",
   "mimetype": "text/x-python",
   "name": "python",
   "nbconvert_exporter": "python",
   "pygments_lexer": "ipython3",
   "version": "3.9.18"
  }
 },
 "nbformat": 4,
 "nbformat_minor": 2
}
